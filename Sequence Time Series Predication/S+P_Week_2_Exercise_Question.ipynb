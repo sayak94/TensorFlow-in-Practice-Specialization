{
  "nbformat": 4,
  "nbformat_minor": 0,
  "metadata": {
    "colab": {
      "name": "S+P_Week_2_Exercise_Question.ipynb",
      "provenance": []
    },
    "kernelspec": {
      "display_name": "Python 3",
      "name": "python3"
    },
    "accelerator": "GPU"
  },
  "cells": [
    {
      "cell_type": "code",
      "metadata": {
        "id": "zX4Kg8DUTKWO",
        "colab_type": "code",
        "colab": {}
      },
      "source": [
        "#@title Licensed under the Apache License, Version 2.0 (the \"License\");\n",
        "# you may not use this file except in compliance with the License.\n",
        "# You may obtain a copy of the License at\n",
        "#\n",
        "# https://www.apache.org/licenses/LICENSE-2.0\n",
        "#\n",
        "# Unless required by applicable law or agreed to in writing, software\n",
        "# distributed under the License is distributed on an \"AS IS\" BASIS,\n",
        "# WITHOUT WARRANTIES OR CONDITIONS OF ANY KIND, either express or implied.\n",
        "# See the License for the specific language governing permissions and\n",
        "# limitations under the License."
      ],
      "execution_count": 1,
      "outputs": []
    },
    {
      "cell_type": "code",
      "metadata": {
        "cellView": "both",
        "colab_type": "code",
        "id": "D1J15Vh_1Jih",
        "colab": {
          "base_uri": "https://localhost:8080/",
          "height": 52
        },
        "outputId": "712380ad-185c-4247-a872-0e00f960fb00"
      },
      "source": [
        "!pip install tf-nightly-2.0-preview\n"
      ],
      "execution_count": 2,
      "outputs": [
        {
          "output_type": "stream",
          "text": [
            "\u001b[31mERROR: Could not find a version that satisfies the requirement tf-nightly-2.0-preview (from versions: none)\u001b[0m\n",
            "\u001b[31mERROR: No matching distribution found for tf-nightly-2.0-preview\u001b[0m\n"
          ],
          "name": "stdout"
        }
      ]
    },
    {
      "cell_type": "code",
      "metadata": {
        "colab_type": "code",
        "id": "BOjujz601HcS",
        "colab": {
          "base_uri": "https://localhost:8080/",
          "height": 34
        },
        "outputId": "266c7b5d-326c-47dd-eb65-72174b2c6c00"
      },
      "source": [
        "import tensorflow as tf\n",
        "import numpy as np\n",
        "import matplotlib.pyplot as plt\n",
        "print(tf.__version__)"
      ],
      "execution_count": 3,
      "outputs": [
        {
          "output_type": "stream",
          "text": [
            "2.2.0\n"
          ],
          "name": "stdout"
        }
      ]
    },
    {
      "cell_type": "code",
      "metadata": {
        "colab_type": "code",
        "id": "Zswl7jRtGzkk",
        "colab": {
          "base_uri": "https://localhost:8080/",
          "height": 279
        },
        "outputId": "ff58ead4-ef1a-4447-a625-041e121338f2"
      },
      "source": [
        "def plot_series(time, series, format=\"-\", start=0, end=None):\n",
        "    plt.plot(time[start:end], series[start:end], format)\n",
        "    plt.xlabel(\"Time\")\n",
        "    plt.ylabel(\"Value\")\n",
        "    plt.grid(False)\n",
        "\n",
        "def trend(time, slope=0):\n",
        "    return slope * time\n",
        "\n",
        "def seasonal_pattern(season_time):\n",
        "    \"\"\"Just an arbitrary pattern, you can change it if you wish\"\"\"\n",
        "    return np.where(season_time < 0.1,\n",
        "                    np.cos(season_time * 2 * np.pi),\n",
        "                    1 / np.exp(10 * season_time))\n",
        "\n",
        "def seasonality(time, period, amplitude=1, phase=0):\n",
        "    \"\"\"Repeats the same pattern at each period\"\"\"\n",
        "    season_time = ((time + phase) % period) / period\n",
        "    return amplitude * seasonal_pattern(season_time)\n",
        "\n",
        "def noise(time, noise_level=1, seed=None):\n",
        "    rnd = np.random.RandomState(seed)\n",
        "    return rnd.randn(len(time)) * noise_level\n",
        "\n",
        "time = np.arange(10 * 365 + 1, dtype=\"float32\")\n",
        "baseline = 10\n",
        "series = trend(time, 0.2)  \n",
        "baseline = 5\n",
        "amplitude = 40\n",
        "slope = 0.002\n",
        "noise_level = 2\n",
        "\n",
        "# Create the series\n",
        "series = baseline + trend(time, slope) + seasonality(time, period=365, amplitude=amplitude)\n",
        "# Update with noise\n",
        "series += noise(time, noise_level, seed=51)\n",
        "\n",
        "split_time = 3000\n",
        "time_train = time[:split_time]\n",
        "x_train = series[:split_time]\n",
        "time_valid = time[split_time:]\n",
        "x_valid = series[split_time:]\n",
        "\n",
        "window_size = 20\n",
        "batch_size = 32\n",
        "shuffle_buffer_size = 1000\n",
        "\n",
        "plot_series(time, series)"
      ],
      "execution_count": 4,
      "outputs": [
        {
          "output_type": "display_data",
          "data": {
            "image/png": "[encoded data removed]",
            "text/plain": [
              "<Figure size 432x288 with 1 Axes>"
            ]
          },
          "metadata": {
            "tags": [],
            "needs_background": "light"
          }
        }
      ]
    },
    {
      "cell_type": "markdown",
      "metadata": {
        "colab_type": "text",
        "id": "GfUTNqti_lNC"
      },
      "source": [
        "Desired output -- a chart that looks like this:\n",
        "\n",
        "![Chart showing upward trend and seasonailty](http://www.laurencemoroney.com/wp-content/uploads/2019/07/plot1.png)"
      ]
    },
    {
      "cell_type": "code",
      "metadata": {
        "colab_type": "code",
        "id": "4sTTIOCbyShY",
        "colab": {}
      },
      "source": [
        "def windowed_dataset(series, window_size, batch_size, shuffle_buffer):\n",
        "  dataset = tf.data.Dataset.from_tensor_slices(series)\n",
        "  dataset = dataset.window(window_size + 1, shift=1, drop_remainder=True)\n",
        "  dataset = dataset.flat_map(lambda window: window.batch(window_size + 1))\n",
        "  dataset = dataset.shuffle(shuffle_buffer).map(lambda window: (window[:-1], window[-1]))\n",
        "  dataset = dataset.batch(batch_size).prefetch(1)\n",
        "  return dataset"
      ],
      "execution_count": 5,
      "outputs": []
    },
    {
      "cell_type": "code",
      "metadata": {
        "colab_type": "code",
        "id": "TW-vT7eLYAdb",
        "colab": {
          "base_uri": "https://localhost:8080/",
          "height": 1000
        },
        "outputId": "3bbf7881-c0ea-4e9e-91a5-acf8471d1060"
      },
      "source": [
        "dataset = windowed_dataset(x_train, window_size, batch_size, shuffle_buffer_size)\n",
        "\n",
        "\n",
        "model = tf.keras.models.Sequential([\n",
        "    tf.keras.layers.Dense(10, activation='relu', input_shape=[window_size]),\n",
        "    tf.keras.layers.Dense( 5,activation=\"relu\"), \n",
        "    tf.keras.layers.Dense(1)\n",
        "])\n",
        "\n",
        "model.compile(loss='mse', optimizer=tf.keras.optimizers.SGD(lr=1e-6, momentum=0.9))\n",
        "model.fit(dataset,epochs=100,verbose=1)\n"
      ],
      "execution_count": 6,
      "outputs": [
        {
          "output_type": "stream",
          "text": [
            "Epoch 1/100\n",
            "94/94 [==============================] - 1s 6ms/step - loss: 367.1260\n",
            "Epoch 2/100\n",
            "94/94 [==============================] - 1s 6ms/step - loss: 280.8388\n",
            "Epoch 3/100\n",
            "94/94 [==============================] - 1s 6ms/step - loss: 92.7751\n",
            "Epoch 4/100\n",
            "94/94 [==============================] - 1s 6ms/step - loss: 77.5751\n",
            "Epoch 5/100\n",
            "94/94 [==============================] - 1s 8ms/step - loss: 65.1457\n",
            "Epoch 6/100\n",
            "94/94 [==============================] - 1s 6ms/step - loss: 54.9267\n",
            "Epoch 7/100\n",
            "94/94 [==============================] - 1s 6ms/step - loss: 47.1343\n",
            "Epoch 8/100\n",
            "94/94 [==============================] - 1s 6ms/step - loss: 41.0577\n",
            "Epoch 9/100\n",
            "94/94 [==============================] - 1s 6ms/step - loss: 36.2893\n",
            "Epoch 10/100\n",
            "94/94 [==============================] - 1s 7ms/step - loss: 32.9779\n",
            "Epoch 11/100\n",
            "94/94 [==============================] - 1s 6ms/step - loss: 30.2204\n",
            "Epoch 12/100\n",
            "94/94 [==============================] - 1s 6ms/step - loss: 27.9200\n",
            "Epoch 13/100\n",
            "94/94 [==============================] - 1s 7ms/step - loss: 26.2508\n",
            "Epoch 14/100\n",
            "94/94 [==============================] - 1s 6ms/step - loss: 24.6501\n",
            "Epoch 15/100\n",
            "94/94 [==============================] - 1s 7ms/step - loss: 22.7532\n",
            "Epoch 16/100\n",
            "94/94 [==============================] - 1s 6ms/step - loss: 21.4751\n",
            "Epoch 17/100\n",
            "94/94 [==============================] - 1s 7ms/step - loss: 20.5739\n",
            "Epoch 18/100\n",
            "94/94 [==============================] - 1s 8ms/step - loss: 19.7909\n",
            "Epoch 19/100\n",
            "94/94 [==============================] - 1s 6ms/step - loss: 19.2085\n",
            "Epoch 20/100\n",
            "94/94 [==============================] - 1s 6ms/step - loss: 18.6562\n",
            "Epoch 21/100\n",
            "94/94 [==============================] - 1s 6ms/step - loss: 18.3752\n",
            "Epoch 22/100\n",
            "94/94 [==============================] - 1s 6ms/step - loss: 18.0156\n",
            "Epoch 23/100\n",
            "94/94 [==============================] - 1s 6ms/step - loss: 17.6445\n",
            "Epoch 24/100\n",
            "94/94 [==============================] - 1s 6ms/step - loss: 17.3663\n",
            "Epoch 25/100\n",
            "94/94 [==============================] - 1s 6ms/step - loss: 17.1574\n",
            "Epoch 26/100\n",
            "94/94 [==============================] - 1s 6ms/step - loss: 16.9693\n",
            "Epoch 27/100\n",
            "94/94 [==============================] - 1s 6ms/step - loss: 16.7923\n",
            "Epoch 28/100\n",
            "94/94 [==============================] - 1s 6ms/step - loss: 16.5287\n",
            "Epoch 29/100\n",
            "94/94 [==============================] - 1s 6ms/step - loss: 16.4337\n",
            "Epoch 30/100\n",
            "94/94 [==============================] - 1s 6ms/step - loss: 16.2696\n",
            "Epoch 31/100\n",
            "94/94 [==============================] - 1s 8ms/step - loss: 16.1580\n",
            "Epoch 32/100\n",
            "94/94 [==============================] - 1s 6ms/step - loss: 15.9900\n",
            "Epoch 33/100\n",
            "94/94 [==============================] - 1s 6ms/step - loss: 15.8746\n",
            "Epoch 34/100\n",
            "94/94 [==============================] - 1s 6ms/step - loss: 15.7295\n",
            "Epoch 35/100\n",
            "94/94 [==============================] - 1s 6ms/step - loss: 15.6006\n",
            "Epoch 36/100\n",
            "94/94 [==============================] - 1s 6ms/step - loss: 15.4819\n",
            "Epoch 37/100\n",
            "94/94 [==============================] - 1s 6ms/step - loss: 15.4192\n",
            "Epoch 38/100\n",
            "94/94 [==============================] - 1s 6ms/step - loss: 15.3102\n",
            "Epoch 39/100\n",
            "94/94 [==============================] - 1s 6ms/step - loss: 15.1987\n",
            "Epoch 40/100\n",
            "94/94 [==============================] - 1s 6ms/step - loss: 15.1035\n",
            "Epoch 41/100\n",
            "94/94 [==============================] - 1s 6ms/step - loss: 15.0156\n",
            "Epoch 42/100\n",
            "94/94 [==============================] - 1s 6ms/step - loss: 14.9432\n",
            "Epoch 43/100\n",
            "94/94 [==============================] - 1s 6ms/step - loss: 14.8696\n",
            "Epoch 44/100\n",
            "94/94 [==============================] - 1s 6ms/step - loss: 14.7650\n",
            "Epoch 45/100\n",
            "94/94 [==============================] - 1s 6ms/step - loss: 14.6982\n",
            "Epoch 46/100\n",
            "94/94 [==============================] - 1s 6ms/step - loss: 14.6175\n",
            "Epoch 47/100\n",
            "94/94 [==============================] - 1s 9ms/step - loss: 14.5500\n",
            "Epoch 48/100\n",
            "94/94 [==============================] - 1s 6ms/step - loss: 14.4696\n",
            "Epoch 49/100\n",
            "94/94 [==============================] - 1s 7ms/step - loss: 14.4077\n",
            "Epoch 50/100\n",
            "94/94 [==============================] - 1s 6ms/step - loss: 14.3865\n",
            "Epoch 51/100\n",
            "94/94 [==============================] - 1s 6ms/step - loss: 14.2922\n",
            "Epoch 52/100\n",
            "94/94 [==============================] - 1s 6ms/step - loss: 14.2071\n",
            "Epoch 53/100\n",
            "94/94 [==============================] - 1s 6ms/step - loss: 14.1727\n",
            "Epoch 54/100\n",
            "94/94 [==============================] - 1s 8ms/step - loss: 14.0537\n",
            "Epoch 55/100\n",
            "94/94 [==============================] - 1s 8ms/step - loss: 14.1151\n",
            "Epoch 56/100\n",
            "94/94 [==============================] - 1s 6ms/step - loss: 13.9904\n",
            "Epoch 57/100\n",
            "94/94 [==============================] - 1s 6ms/step - loss: 13.9692\n",
            "Epoch 58/100\n",
            "94/94 [==============================] - 1s 6ms/step - loss: 13.8945\n",
            "Epoch 59/100\n",
            "94/94 [==============================] - 1s 6ms/step - loss: 13.8854\n",
            "Epoch 60/100\n",
            "94/94 [==============================] - 1s 6ms/step - loss: 13.8353\n",
            "Epoch 61/100\n",
            "94/94 [==============================] - 1s 6ms/step - loss: 13.7832\n",
            "Epoch 62/100\n",
            "94/94 [==============================] - 1s 6ms/step - loss: 13.7403\n",
            "Epoch 63/100\n",
            "94/94 [==============================] - 1s 6ms/step - loss: 13.7019\n",
            "Epoch 64/100\n",
            "94/94 [==============================] - 1s 6ms/step - loss: 13.6611\n",
            "Epoch 65/100\n",
            "94/94 [==============================] - 1s 6ms/step - loss: 13.6476\n",
            "Epoch 66/100\n",
            "94/94 [==============================] - 1s 6ms/step - loss: 13.5700\n",
            "Epoch 67/100\n",
            "94/94 [==============================] - 1s 6ms/step - loss: 13.5275\n",
            "Epoch 68/100\n",
            "94/94 [==============================] - 1s 6ms/step - loss: 13.5139\n",
            "Epoch 69/100\n",
            "94/94 [==============================] - 1s 6ms/step - loss: 13.4706\n",
            "Epoch 70/100\n",
            "94/94 [==============================] - 1s 6ms/step - loss: 13.4351\n",
            "Epoch 71/100\n",
            "94/94 [==============================] - 1s 6ms/step - loss: 13.3898\n",
            "Epoch 72/100\n",
            "94/94 [==============================] - 1s 6ms/step - loss: 13.3563\n",
            "Epoch 73/100\n",
            "94/94 [==============================] - 1s 6ms/step - loss: 13.3193\n",
            "Epoch 74/100\n",
            "94/94 [==============================] - 1s 6ms/step - loss: 13.3024\n",
            "Epoch 75/100\n",
            "94/94 [==============================] - 1s 7ms/step - loss: 13.2905\n",
            "Epoch 76/100\n",
            "94/94 [==============================] - 1s 8ms/step - loss: 13.2565\n",
            "Epoch 77/100\n",
            "94/94 [==============================] - 1s 7ms/step - loss: 13.2372\n",
            "Epoch 78/100\n",
            "94/94 [==============================] - 1s 6ms/step - loss: 13.2054\n",
            "Epoch 79/100\n",
            "94/94 [==============================] - 1s 6ms/step - loss: 13.1718\n",
            "Epoch 80/100\n",
            "94/94 [==============================] - 1s 6ms/step - loss: 13.1422\n",
            "Epoch 81/100\n",
            "94/94 [==============================] - 1s 6ms/step - loss: 13.1090\n",
            "Epoch 82/100\n",
            "94/94 [==============================] - 1s 8ms/step - loss: 13.0899\n",
            "Epoch 83/100\n",
            "94/94 [==============================] - 1s 7ms/step - loss: 13.0509\n",
            "Epoch 84/100\n",
            "94/94 [==============================] - 1s 6ms/step - loss: 13.0652\n",
            "Epoch 85/100\n",
            "94/94 [==============================] - 1s 8ms/step - loss: 13.0287\n",
            "Epoch 86/100\n",
            "94/94 [==============================] - 1s 7ms/step - loss: 13.0328\n",
            "Epoch 87/100\n",
            "94/94 [==============================] - 1s 7ms/step - loss: 12.9506\n",
            "Epoch 88/100\n",
            "94/94 [==============================] - 1s 7ms/step - loss: 12.9375\n",
            "Epoch 89/100\n",
            "94/94 [==============================] - 1s 7ms/step - loss: 12.9370\n",
            "Epoch 90/100\n",
            "94/94 [==============================] - 1s 6ms/step - loss: 12.9012\n",
            "Epoch 91/100\n",
            "94/94 [==============================] - 1s 6ms/step - loss: 12.8955\n",
            "Epoch 92/100\n",
            "94/94 [==============================] - 1s 7ms/step - loss: 12.8658\n",
            "Epoch 93/100\n",
            "94/94 [==============================] - 1s 7ms/step - loss: 12.8858\n",
            "Epoch 94/100\n",
            "94/94 [==============================] - 1s 7ms/step - loss: 12.8442\n",
            "Epoch 95/100\n",
            "94/94 [==============================] - 1s 7ms/step - loss: 12.7977\n",
            "Epoch 96/100\n",
            "94/94 [==============================] - 1s 8ms/step - loss: 12.7900\n",
            "Epoch 97/100\n",
            "94/94 [==============================] - 1s 6ms/step - loss: 12.7889\n",
            "Epoch 98/100\n",
            "94/94 [==============================] - 1s 6ms/step - loss: 12.7800\n",
            "Epoch 99/100\n",
            "94/94 [==============================] - 1s 6ms/step - loss: 12.7508\n",
            "Epoch 100/100\n",
            "94/94 [==============================] - 1s 6ms/step - loss: 12.7415\n"
          ],
          "name": "stdout"
        },
        {
          "output_type": "execute_result",
          "data": {
            "text/plain": [
              "<tensorflow.python.keras.callbacks.History at 0x7f6fc07adef0>"
            ]
          },
          "metadata": {
            "tags": []
          },
          "execution_count": 6
        }
      ]
    },
    {
      "cell_type": "code",
      "metadata": {
        "colab_type": "code",
        "id": "efhco2rYyIFF",
        "colab": {
          "base_uri": "https://localhost:8080/",
          "height": 388
        },
        "outputId": "ecb8ea43-657a-494f-bda9-8f881697dd3a"
      },
      "source": [
        "forecast = []\n",
        "for time in range(len(series) - window_size):\n",
        "  forecast.append(model.predict(series[time:time + window_size][np.newaxis]))\n",
        "\n",
        "forecast = forecast[split_time-window_size:]\n",
        "results = np.array(forecast)[:, 0, 0]\n",
        "\n",
        "\n",
        "plt.figure(figsize=(10, 6))\n",
        "\n",
        "plot_series(time_valid, x_valid)\n",
        "plot_series(time_valid, results)"
      ],
      "execution_count": 7,
      "outputs": [
        {
          "output_type": "display_data",
          "data": {
            "image/png": "[encoded data removed]",
            "text/plain": [
              "<Figure size 720x432 with 1 Axes>"
            ]
          },
          "metadata": {
            "tags": [],
            "needs_background": "light"
          }
        }
      ]
    },
    {
      "cell_type": "code",
      "metadata": {
        "colab_type": "code",
        "id": "-kT6j186YO6K",
        "colab": {
          "base_uri": "https://localhost:8080/",
          "height": 34
        },
        "outputId": "c1ac5175-cf48-4296-c3ec-dc0555502d1f"
      },
      "source": [
        "tf.keras.metrics.mean_absolute_error(x_valid, results).numpy()\n",
        "# EXPECTED OUTPUT\n",
        "# A Value less than 3"
      ],
      "execution_count": 8,
      "outputs": [
        {
          "output_type": "execute_result",
          "data": {
            "text/plain": [
              "2.1309547"
            ]
          },
          "metadata": {
            "tags": []
          },
          "execution_count": 8
        }
      ]
    },
    {
      "cell_type": "code",
      "metadata": {
        "id": "yvtn2PCz0lzb",
        "colab_type": "code",
        "colab": {}
      },
      "source": [
        ""
      ],
      "execution_count": 8,
      "outputs": []
    }
  ]
}